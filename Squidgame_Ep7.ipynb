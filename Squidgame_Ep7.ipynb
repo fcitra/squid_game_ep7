{
 "cells": [
  {
   "cell_type": "code",
   "execution_count": 1,
   "metadata": {},
   "outputs": [],
   "source": [
    "import random\n",
    "import matplotlib.pyplot as plt\n",
    "import numpy as np\n",
    "import pandas as pd"
   ]
  },
  {
   "cell_type": "code",
   "execution_count": 2,
   "metadata": {},
   "outputs": [],
   "source": [
    "def create_pathway(n):\n",
    "    generated_steps = []\n",
    "    for i in range(0, n+1):\n",
    "        right_step = random.choice(['left', 'right'])\n",
    "        generated_steps.append(right_step)\n",
    "    return generated_steps"
   ]
  },
  {
   "cell_type": "code",
   "execution_count": 3,
   "metadata": {},
   "outputs": [
    {
     "name": "stdout",
     "output_type": "stream",
     "text": [
      "100.0\n"
     ]
    },
    {
     "data": {
      "image/png": "[encoded data removed]",
      "text/plain": [
       "<Figure size 432x288 with 1 Axes>"
      ]
     },
     "metadata": {
      "needs_background": "light"
     },
     "output_type": "display_data"
    }
   ],
   "source": [
    "last_step_record = []\n",
    "first_survivor_record = []\n",
    "max_player = 16\n",
    "survivor_record = []\n",
    "max_step = 18\n",
    "x = 1000\n",
    "\n",
    "for i in range(1, x + 1): #run X number of games\n",
    "    player_number = 1\n",
    "    starting_step = 1\n",
    "    last_step = starting_step\n",
    "    step_record = [] # create a record of last step for each game\n",
    "    steps = create_pathway(max_step) # create a new pathway for each game\n",
    "    for player_number in range(1, max_player + 1): # start game from a player\n",
    "        for j in range(starting_step, max_step + 1): # this is the horrible experience of each player\n",
    "            # j is the glass on which a player is standing\n",
    "            # starting_step is the number of tile of the glass pathway from which a player starts\n",
    "            # for player number 1 the starting step is one as defined above\n",
    "            # other players pick up where their respective previous player left \n",
    "            step_choice = random.choice(['left', 'right']) # generate a choice\n",
    "            # generate a random choice made by a player for each step\n",
    "            if step_choice == steps[starting_step - 1]: # check if the player makes a right choice\n",
    "                j += 1 # if the choice for each tile is correct, the player advances to the next tile\n",
    "            else: # if the player makes a wrong choice\n",
    "                last_step = j # this is the last tile of each player    \n",
    "                break # end the game for a player \n",
    "        player_number += 1 # next player's turn\n",
    "        starting_step = last_step + 1 # starting point for next player is one step ahead of the previous player's last  \n",
    "        step_record.append(last_step) # record the last step of every players for each game\n",
    "        \n",
    "    if max_step in step_record: # check if there is surviving player in each game, if there is at least one\n",
    "        first_survivor = step_record.index(max_step) # search the number of first survivor\n",
    "        first_survivor_record.append(first_survivor + 1) # record the number of first survivor\n",
    "        survivors = step_record.count(max_step) # count the total number of survivors\n",
    "    else:\n",
    "        first_survivor_record.append(0) # if none survives, record 0 as the first survivor\n",
    "        survivors = 0 # record 0 as the number of survivors\n",
    "    last_step_record.append(last_step) # record last step for each grame\n",
    "    survivor_record.append(survivors) # record the number of survivor(s) for each game \n",
    "    \n",
    "person_list = list(range(0, max_player + 1))\n",
    "probability_list = []\n",
    "prob_each_player_record = []\n",
    "\n",
    "for i in range(0, max_player + 1 ):    \n",
    "    prob_each_player = first_survivor_record.count(i) #check probability of survival for each number\n",
    "    prob_each_player_record.append(prob_each_player/x*100)\n",
    "    prb_number = survivor_record.count(i) # check probability for each number of survivor(s) (none, one, two, ...)\n",
    "    probability_list.append(prb_number/x*100)\n",
    "\n",
    "print(np.sum(probability_list))\n",
    "plt.bar(person_list, probability_list)\n",
    "\n",
    "# Setting the interval of ticks of x-axis to 5.\n",
    "listOf_Xticks = np.arange(0, 16, 1)\n",
    "plt.xticks(listOf_Xticks)\n",
    " \n",
    "# Setting the interval of ticks of y-axis to 10.\n",
    "#listOf_Yticks = np.arange(0, 100, 5)\n",
    "#plt.yticks(listOf_Yticks)\n",
    "plt.xlabel('Survivors')\n",
    "plt.ylabel('Probability(%)')\n",
    "plt.show()"
   ]
  },
  {
   "cell_type": "code",
   "execution_count": null,
   "metadata": {},
   "outputs": [],
   "source": []
  },
  {
   "cell_type": "code",
   "execution_count": 4,
   "metadata": {},
   "outputs": [],
   "source": [
    "df = pd.DataFrame(prob_each_player_record, columns = ['Survival probability'])\n",
    "df['Cummulative probability'] = df['Survival probability'].cumsum(axis = 0)"
   ]
  },
  {
   "cell_type": "code",
   "execution_count": 5,
   "metadata": {},
   "outputs": [],
   "source": [
    "df['Probability of survival'] = pd.DataFrame(probability_list, columns = ['Survival prob'])"
   ]
  },
  {
   "cell_type": "code",
   "execution_count": 6,
   "metadata": {},
   "outputs": [
    {
     "data": {
      "text/html": [
       "<div>\n",
       "<style scoped>\n",
       "    .dataframe tbody tr th:only-of-type {\n",
       "        vertical-align: middle;\n",
       "    }\n",
       "\n",
       "    .dataframe tbody tr th {\n",
       "        vertical-align: top;\n",
       "    }\n",
       "\n",
       "    .dataframe thead th {\n",
       "        text-align: right;\n",
       "    }\n",
       "</style>\n",
       "<table border=\"1\" class=\"dataframe\">\n",
       "  <thead>\n",
       "    <tr style=\"text-align: right;\">\n",
       "      <th></th>\n",
       "      <th>Survival probability</th>\n",
       "      <th>Cummulative probability</th>\n",
       "      <th>Probability of survival</th>\n",
       "    </tr>\n",
       "  </thead>\n",
       "  <tbody>\n",
       "    <tr>\n",
       "      <th>0</th>\n",
       "      <td>2.1</td>\n",
       "      <td>2.1</td>\n",
       "      <td>2.1</td>\n",
       "    </tr>\n",
       "    <tr>\n",
       "      <th>1</th>\n",
       "      <td>0.0</td>\n",
       "      <td>2.1</td>\n",
       "      <td>2.8</td>\n",
       "    </tr>\n",
       "    <tr>\n",
       "      <th>2</th>\n",
       "      <td>0.0</td>\n",
       "      <td>2.1</td>\n",
       "      <td>3.6</td>\n",
       "    </tr>\n",
       "    <tr>\n",
       "      <th>3</th>\n",
       "      <td>0.0</td>\n",
       "      <td>2.1</td>\n",
       "      <td>6.1</td>\n",
       "    </tr>\n",
       "    <tr>\n",
       "      <th>4</th>\n",
       "      <td>0.2</td>\n",
       "      <td>2.3</td>\n",
       "      <td>9.2</td>\n",
       "    </tr>\n",
       "    <tr>\n",
       "      <th>5</th>\n",
       "      <td>0.9</td>\n",
       "      <td>3.2</td>\n",
       "      <td>12.3</td>\n",
       "    </tr>\n",
       "    <tr>\n",
       "      <th>6</th>\n",
       "      <td>1.9</td>\n",
       "      <td>5.1</td>\n",
       "      <td>15.0</td>\n",
       "    </tr>\n",
       "    <tr>\n",
       "      <th>7</th>\n",
       "      <td>4.4</td>\n",
       "      <td>9.5</td>\n",
       "      <td>16.7</td>\n",
       "    </tr>\n",
       "    <tr>\n",
       "      <th>8</th>\n",
       "      <td>10.6</td>\n",
       "      <td>20.1</td>\n",
       "      <td>14.2</td>\n",
       "    </tr>\n",
       "    <tr>\n",
       "      <th>9</th>\n",
       "      <td>14.2</td>\n",
       "      <td>34.3</td>\n",
       "      <td>10.6</td>\n",
       "    </tr>\n",
       "    <tr>\n",
       "      <th>10</th>\n",
       "      <td>16.7</td>\n",
       "      <td>51.0</td>\n",
       "      <td>4.4</td>\n",
       "    </tr>\n",
       "    <tr>\n",
       "      <th>11</th>\n",
       "      <td>15.0</td>\n",
       "      <td>66.0</td>\n",
       "      <td>1.9</td>\n",
       "    </tr>\n",
       "    <tr>\n",
       "      <th>12</th>\n",
       "      <td>12.3</td>\n",
       "      <td>78.3</td>\n",
       "      <td>0.9</td>\n",
       "    </tr>\n",
       "    <tr>\n",
       "      <th>13</th>\n",
       "      <td>9.2</td>\n",
       "      <td>87.5</td>\n",
       "      <td>0.2</td>\n",
       "    </tr>\n",
       "    <tr>\n",
       "      <th>14</th>\n",
       "      <td>6.1</td>\n",
       "      <td>93.6</td>\n",
       "      <td>0.0</td>\n",
       "    </tr>\n",
       "    <tr>\n",
       "      <th>15</th>\n",
       "      <td>3.6</td>\n",
       "      <td>97.2</td>\n",
       "      <td>0.0</td>\n",
       "    </tr>\n",
       "    <tr>\n",
       "      <th>16</th>\n",
       "      <td>2.8</td>\n",
       "      <td>100.0</td>\n",
       "      <td>0.0</td>\n",
       "    </tr>\n",
       "  </tbody>\n",
       "</table>\n",
       "</div>"
      ],
      "text/plain": [
       "    Survival probability  Cummulative probability  Probability of survival\n",
       "0                    2.1                      2.1                      2.1\n",
       "1                    0.0                      2.1                      2.8\n",
       "2                    0.0                      2.1                      3.6\n",
       "3                    0.0                      2.1                      6.1\n",
       "4                    0.2                      2.3                      9.2\n",
       "5                    0.9                      3.2                     12.3\n",
       "6                    1.9                      5.1                     15.0\n",
       "7                    4.4                      9.5                     16.7\n",
       "8                   10.6                     20.1                     14.2\n",
       "9                   14.2                     34.3                     10.6\n",
       "10                  16.7                     51.0                      4.4\n",
       "11                  15.0                     66.0                      1.9\n",
       "12                  12.3                     78.3                      0.9\n",
       "13                   9.2                     87.5                      0.2\n",
       "14                   6.1                     93.6                      0.0\n",
       "15                   3.6                     97.2                      0.0\n",
       "16                   2.8                    100.0                      0.0"
      ]
     },
     "execution_count": 6,
     "metadata": {},
     "output_type": "execute_result"
    }
   ],
   "source": [
    "df"
   ]
  },
  {
   "cell_type": "code",
   "execution_count": 7,
   "metadata": {},
   "outputs": [
    {
     "data": {
      "image/png": "[encoded data removed]",
      "text/plain": [
       "<Figure size 432x288 with 1 Axes>"
      ]
     },
     "metadata": {
      "needs_background": "light"
     },
     "output_type": "display_data"
    }
   ],
   "source": [
    "plt.bar(df.index, df['Cummulative probability'])\n",
    "#plt.title('Survival probability % vs Number of players')\n",
    "# Setting the interval of ticks of x-axis to 5.\n",
    "listOf_Xticks = np.arange(0, max_player + 1, 1)\n",
    "plt.xticks(listOf_Xticks)\n",
    " \n",
    "# Setting the interval of ticks of y-axis to 10.\n",
    "listOf_Yticks = np.arange(0, 100, 20)\n",
    "plt.yticks(listOf_Yticks)\n",
    "\n",
    "plt.xlabel(\"Player's number\")\n",
    "plt.ylabel('Survival Probability(%)')\n",
    "plt.show()"
   ]
  },
  {
   "cell_type": "code",
   "execution_count": null,
   "metadata": {},
   "outputs": [],
   "source": []
  }
 ],
 "metadata": {
  "kernelspec": {
   "display_name": "Python 3",
   "language": "python",
   "name": "python3"
  },
  "language_info": {
   "codemirror_mode": {
    "name": "ipython",
    "version": 3
   },
   "file_extension": ".py",
   "mimetype": "text/x-python",
   "name": "python",
   "nbconvert_exporter": "python",
   "pygments_lexer": "ipython3",
   "version": "3.8.5"
  }
 },
 "nbformat": 4,
 "nbformat_minor": 4
}
