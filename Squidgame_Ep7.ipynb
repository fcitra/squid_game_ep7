{
 "cells": [
  {
   "cell_type": "code",
   "execution_count": 1,
   "metadata": {},
   "outputs": [],
   "source": [
    "import random\n",
    "import matplotlib.pyplot as plt\n",
    "import numpy as np\n",
    "import pandas as pd"
   ]
  },
  {
   "cell_type": "code",
   "execution_count": 2,
   "metadata": {},
   "outputs": [],
   "source": [
    "def create_pathway(n):\n",
    "    generated_steps = []\n",
    "    for i in range(0, n+1):\n",
    "        right_step = random.choice(['left', 'right'])\n",
    "        generated_steps.append(right_step)\n",
    "    return generated_steps"
   ]
  },
  {
   "cell_type": "code",
   "execution_count": 3,
   "metadata": {},
   "outputs": [
    {
     "name": "stdout",
     "output_type": "stream",
     "text": [
      "100.0\n"
     ]
    },
    {
     "data": {
      "image/png": "[encoded data removed]",
      "text/plain": [
       "<Figure size 432x288 with 1 Axes>"
      ]
     },
     "metadata": {
      "needs_background": "light"
     },
     "output_type": "display_data"
    }
   ],
   "source": [
    "last_step_record = []\n",
    "first_survivor_record = []\n",
    "max_player = 16\n",
    "survivor_record = []\n",
    "max_step = 18\n",
    "x = 10000\n",
    "\n",
    "for i in range(1, x + 1): #run X number of games\n",
    "    player_number = 1\n",
    "    starting_step = 1\n",
    "    last_step = starting_step\n",
    "    step_record = [] # create a record of last step for each game\n",
    "    steps = create_pathway(max_step) # create a new pathway for each game\n",
    "    for player_number in range(1, max_player + 1): \n",
    "        for j in range(starting_step, max_step + 1): # this is the horrible experience of each player\n",
    "            # j is the glass on which a player is standing\n",
    "            # starting_step is the number of tile in the tempered glass pathway from which a player starts\n",
    "            # for player number 1 the starting step is zero as defined above\n",
    "            # other players pick up where their previous player left \n",
    "            step_choice = random.choice(['left', 'right']) # generate a choice\n",
    "            # generate a random choice made by a player for each step\n",
    "            if step_choice == steps[starting_step - 1]: # if the player makes a right choice\n",
    "                j += 1 # if the choice for each tile is correct, the player advances to the next tile\n",
    "            else: # if the player makes a wrong choice\n",
    "                last_step = j # this is the last tile of each player    \n",
    "                break # end the game for a player \n",
    "        player_number += 1 # next player's turn\n",
    "        starting_step = last_step + 1 # starting point for next player \n",
    "        step_record.append(last_step) # record the last step of every players for each game\n",
    "        survivors = step_record.count(max_step) # count the number of survivors\n",
    "    if max_step in step_record: # check the first survivor's player number\n",
    "        first_survivor = step_record.index(max_step) \n",
    "        first_survivor_record.append(first_survivor + 1)\n",
    "    else:\n",
    "        first_survivor_record.append(0)\n",
    "    last_step_record.append(last_step) # record last step for each grame\n",
    "    survivor_record.append(survivors) # record the number of survivor(s) for each game \n",
    "    \n",
    "person_list = list(range(0, max_player + 1))\n",
    "probability_list = []\n",
    "prob_each_player_record = []\n",
    "for i in range(0, max_player + 1 ):\n",
    "    probs = survivor_record.count(i)\n",
    "    probability_list.append(probs/x*100)\n",
    "    prob_each_player = first_survivor_record.count(i)\n",
    "    prob_each_player_record.append(prob_each_player/x*100)\n",
    "\n",
    "print(np.sum(probability_list))\n",
    "plt.bar(person_list, probability_list)\n",
    "\n",
    "# Setting the interval of ticks of x-axis to 5.\n",
    "listOf_Xticks = np.arange(0, 16, 1)\n",
    "plt.xticks(listOf_Xticks)\n",
    " \n",
    "# Setting the interval of ticks of y-axis to 10.\n",
    "listOf_Yticks = np.arange(0, 20, 5)\n",
    "plt.yticks(listOf_Yticks)\n",
    "plt.xlabel('Survivors')\n",
    "plt.ylabel('Probability(%)')\n",
    "plt.show()"
   ]
  },
  {
   "cell_type": "code",
   "execution_count": 4,
   "metadata": {},
   "outputs": [],
   "source": [
    "df = pd.DataFrame(prob_each_player_record, columns = ['Survival probability'])\n",
    "df['Cummulative probability'] = df['Survival probability'].cumsum(axis = 0)"
   ]
  },
  {
   "cell_type": "code",
   "execution_count": 5,
   "metadata": {},
   "outputs": [
    {
     "data": {
      "text/html": [
       "<div>\n",
       "<style scoped>\n",
       "    .dataframe tbody tr th:only-of-type {\n",
       "        vertical-align: middle;\n",
       "    }\n",
       "\n",
       "    .dataframe tbody tr th {\n",
       "        vertical-align: top;\n",
       "    }\n",
       "\n",
       "    .dataframe thead th {\n",
       "        text-align: right;\n",
       "    }\n",
       "</style>\n",
       "<table border=\"1\" class=\"dataframe\">\n",
       "  <thead>\n",
       "    <tr style=\"text-align: right;\">\n",
       "      <th></th>\n",
       "      <th>Survival probability</th>\n",
       "      <th>Cummulative probability</th>\n",
       "    </tr>\n",
       "  </thead>\n",
       "  <tbody>\n",
       "    <tr>\n",
       "      <th>0</th>\n",
       "      <td>2.55</td>\n",
       "      <td>2.55</td>\n",
       "    </tr>\n",
       "    <tr>\n",
       "      <th>1</th>\n",
       "      <td>0.00</td>\n",
       "      <td>2.55</td>\n",
       "    </tr>\n",
       "    <tr>\n",
       "      <th>2</th>\n",
       "      <td>0.01</td>\n",
       "      <td>2.56</td>\n",
       "    </tr>\n",
       "    <tr>\n",
       "      <th>3</th>\n",
       "      <td>0.03</td>\n",
       "      <td>2.59</td>\n",
       "    </tr>\n",
       "    <tr>\n",
       "      <th>4</th>\n",
       "      <td>0.29</td>\n",
       "      <td>2.88</td>\n",
       "    </tr>\n",
       "    <tr>\n",
       "      <th>5</th>\n",
       "      <td>0.86</td>\n",
       "      <td>3.74</td>\n",
       "    </tr>\n",
       "    <tr>\n",
       "      <th>6</th>\n",
       "      <td>2.52</td>\n",
       "      <td>6.26</td>\n",
       "    </tr>\n",
       "    <tr>\n",
       "      <th>7</th>\n",
       "      <td>5.56</td>\n",
       "      <td>11.82</td>\n",
       "    </tr>\n",
       "    <tr>\n",
       "      <th>8</th>\n",
       "      <td>9.36</td>\n",
       "      <td>21.18</td>\n",
       "    </tr>\n",
       "    <tr>\n",
       "      <th>9</th>\n",
       "      <td>13.57</td>\n",
       "      <td>34.75</td>\n",
       "    </tr>\n",
       "    <tr>\n",
       "      <th>10</th>\n",
       "      <td>15.40</td>\n",
       "      <td>50.15</td>\n",
       "    </tr>\n",
       "    <tr>\n",
       "      <th>11</th>\n",
       "      <td>15.41</td>\n",
       "      <td>65.56</td>\n",
       "    </tr>\n",
       "    <tr>\n",
       "      <th>12</th>\n",
       "      <td>12.38</td>\n",
       "      <td>77.94</td>\n",
       "    </tr>\n",
       "    <tr>\n",
       "      <th>13</th>\n",
       "      <td>9.82</td>\n",
       "      <td>87.76</td>\n",
       "    </tr>\n",
       "    <tr>\n",
       "      <th>14</th>\n",
       "      <td>6.30</td>\n",
       "      <td>94.06</td>\n",
       "    </tr>\n",
       "    <tr>\n",
       "      <th>15</th>\n",
       "      <td>3.83</td>\n",
       "      <td>97.89</td>\n",
       "    </tr>\n",
       "    <tr>\n",
       "      <th>16</th>\n",
       "      <td>2.11</td>\n",
       "      <td>100.00</td>\n",
       "    </tr>\n",
       "  </tbody>\n",
       "</table>\n",
       "</div>"
      ],
      "text/plain": [
       "    Survival probability  Cummulative probability\n",
       "0                   2.55                     2.55\n",
       "1                   0.00                     2.55\n",
       "2                   0.01                     2.56\n",
       "3                   0.03                     2.59\n",
       "4                   0.29                     2.88\n",
       "5                   0.86                     3.74\n",
       "6                   2.52                     6.26\n",
       "7                   5.56                    11.82\n",
       "8                   9.36                    21.18\n",
       "9                  13.57                    34.75\n",
       "10                 15.40                    50.15\n",
       "11                 15.41                    65.56\n",
       "12                 12.38                    77.94\n",
       "13                  9.82                    87.76\n",
       "14                  6.30                    94.06\n",
       "15                  3.83                    97.89\n",
       "16                  2.11                   100.00"
      ]
     },
     "execution_count": 5,
     "metadata": {},
     "output_type": "execute_result"
    }
   ],
   "source": [
    "df"
   ]
  },
  {
   "cell_type": "code",
   "execution_count": 6,
   "metadata": {},
   "outputs": [
    {
     "data": {
      "image/png": "[encoded data removed]",
      "text/plain": [
       "<Figure size 432x288 with 1 Axes>"
      ]
     },
     "metadata": {
      "needs_background": "light"
     },
     "output_type": "display_data"
    }
   ],
   "source": [
    "plt.bar(df.index, df['Cummulative probability'])\n",
    "#plt.title('Survival probability % vs Number of players')\n",
    "# Setting the interval of ticks of x-axis to 5.\n",
    "listOf_Xticks = np.arange(0, 17, 1)\n",
    "plt.xticks(listOf_Xticks)\n",
    " \n",
    "# Setting the interval of ticks of y-axis to 10.\n",
    "listOf_Yticks = np.arange(0, 100, 20)\n",
    "plt.yticks(listOf_Yticks)\n",
    "\n",
    "plt.xlabel(\"Player's number\")\n",
    "plt.ylabel('Survival Probability(%)')\n",
    "plt.show()"
   ]
  },
  {
   "cell_type": "code",
   "execution_count": null,
   "metadata": {},
   "outputs": [],
   "source": []
  }
 ],
 "metadata": {
  "kernelspec": {
   "display_name": "Python 3",
   "language": "python",
   "name": "python3"
  },
  "language_info": {
   "codemirror_mode": {
    "name": "ipython",
    "version": 3
   },
   "file_extension": ".py",
   "mimetype": "text/x-python",
   "name": "python",
   "nbconvert_exporter": "python",
   "pygments_lexer": "ipython3",
   "version": "3.8.5"
  }
 },
 "nbformat": 4,
 "nbformat_minor": 4
}
